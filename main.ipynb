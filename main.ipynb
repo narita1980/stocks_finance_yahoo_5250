{
 "cells": [
  {
   "cell_type": "code",
   "execution_count": null,
   "id": "textile-mounting",
   "metadata": {},
   "outputs": [],
   "source": [
    "import pandas as pd\n",
    "import requests\n",
    "from bs4 import BeautifulSoup\n",
    "\n",
    "def scrape_yahoo(page=1):\n",
    "    url = \"https://stocks.finance.yahoo.co.jp/stocks/qi/?ids=5250&p=\" + str(page)\n",
    "    r = requests.get(url)\n",
    "\n",
    "    soup = BeautifulSoup(r.text, 'html.parser')\n",
    "    elems = soup.find_all(\"table\", class_=\"yjS\")\n",
    "    datas = elems[0].find_all(\"tr\")[1:]\n",
    "\n",
    "    df = pd.DataFrame()\n",
    "\n",
    "    for data in datas:\n",
    "        row =[]\n",
    "        row.append(data.find_all(\"td\")[0].get_text())\n",
    "        row.append(data.find_all(\"td\")[1].get_text())\n",
    "        row.append(data.find_all(\"td\")[2].find(\"strong\", class_=\"yjMt\").get_text())\n",
    "        row.append(data.find_all(\"td\")[2].find(class_=\"yjSt profile\").get_text())\n",
    "        row.append(data.find_all(\"td\")[3].find(class_=\"yjS time\").get_text())\n",
    "        row.append(data.find_all(\"td\")[3].find(class_=\"price yjM\").get_text())\n",
    "        df = df.append([tuple(row)])\n",
    "    \n",
    "    return df"
   ]
  },
  {
   "cell_type": "code",
   "execution_count": null,
   "id": "continuing-campaign",
   "metadata": {},
   "outputs": [],
   "source": [
    "import time\n",
    "\n",
    "df = pd.DataFrame()\n",
    "for i in range(1,28):\n",
    "    df = df.append(scrape_yahoo(i))\n",
    "    time.sleep(1)"
   ]
  },
  {
   "cell_type": "code",
   "execution_count": null,
   "id": "robust-murray",
   "metadata": {},
   "outputs": [],
   "source": [
    "df = df.reset_index(drop=True)\n",
    "df.to_csv(\"stocks_finance_yahoo_co_jp_stocks_qi_ids_5250.csv\")"
   ]
  }
 ],
 "metadata": {
  "kernelspec": {
   "display_name": "Python 3",
   "language": "python",
   "name": "python3"
  },
  "language_info": {
   "codemirror_mode": {
    "name": "ipython",
    "version": 3
   },
   "file_extension": ".py",
   "mimetype": "text/x-python",
   "name": "python",
   "nbconvert_exporter": "python",
   "pygments_lexer": "ipython3",
   "version": "3.9.6"
  }
 },
 "nbformat": 4,
 "nbformat_minor": 5
}
